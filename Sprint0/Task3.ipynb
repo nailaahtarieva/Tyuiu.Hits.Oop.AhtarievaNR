{
 "cells": [
  {
   "cell_type": "markdown",
   "metadata": {},
   "source": [
    "<h1 style=\"color:DodgerBlue\">Индивидальный проект</h1>"
   ]
  },
  {
   "cell_type": "markdown",
   "metadata": {},
   "source": [
    "<h2 style=\"color:DodgerBlue\">Название проекта:</h2>\n",
    "\n",
    "----\n",
    "\n",
    "### Вариант задания: 3\n"
   ]
  },
  {
   "cell_type": "markdown",
   "metadata": {},
   "source": [
    "<h2 style=\"color:DodgerBlue\">Описание проекта:</h2>\n",
    "\n",
    "----\n",
    "\n",
    "Описание задачи:\n",
    "Создать базовый класс Employee в C#, который будет представлять информацию о\n",
    "сотрудниках компании. На основе этого класса разработать 2-3 производных\n",
    "класса, демонстрирующих принципы наследования и полиморфизма. В каждом из\n",
    "классов должны быть реализованы новые атрибуты и методы, а также\n",
    "переопределены некоторые методы базового класса для демонстрации\n",
    "полиморфизма.\n",
    "\n",
    "Требования к базовому классу Employee:\n",
    "• Атрибуты: Имя (Name), Возраст (Age), Зарплата (Salary).\n",
    "\n",
    "• Методы:\n",
    "\n",
    "    o GetInfo(): метод для получения информации о сотруднике в виде строки.\n",
    "\n",
    "    o Work(): метод для вывода сообщения о выполнении рабочих обязанностей.\n",
    "\n",
    "    o TakeVacation(): метод для вывода сообщения о взятии отпуска.\n",
    "\n",
    "Требования к производным классам:\n",
    "1. Менеджер (Manager): Должен содержать дополнительные атрибуты, такие\n",
    "как Количество подчиненных (SubordinatesCount). Метод Work() должен быть\n",
    "переопределен для добавления информации о управлении командой.\n",
    "2. Разработчик (Developer): Должен содержать дополнительные атрибуты,\n",
    "такие как Специализация (Specialization). Метод TakeVacation() должен быть\n",
    "переопределен для добавления информации о необходимости согласования\n",
    "отпуска с проектными сроками.\n",
    "3. Дизайнер (Designer) (если требуется третий класс): Должен содержать\n",
    "дополнительные атрибуты, такие как Стиль дизайна (DesignStyle).\n",
    "Метод Work() должен быть переопределен для добавления информации о\n",
    "работе над дизайн-проектами.\n"
   ]
  },
  {
   "cell_type": "markdown",
   "metadata": {},
   "source": [
    "<h2 style=\"color:DodgerBlue\">Реализация:</h2>\n",
    "\n",
    "----"
   ]
  },
  {
   "cell_type": "code",
   "execution_count": null,
   "metadata": {
    "dotnet_interactive": {
     "language": "csharp"
    },
    "polyglot_notebook": {
     "kernelName": "csharp"
    }
   },
   "outputs": [
    {
     "name": "stdout",
     "output_type": "stream",
     "text": [
      "\n",
      "Сотрудник: Анна Иванова, Возраст: 35, Зарплата 85000, Подчиненных: 4\n",
      "Менеджер Анна Иванова управляет командой из 4 сотрудников\n",
      "Сотрудник Анна Иванова берет отпуск\n",
      "\n",
      "Сотрудник: Петр Кузнецов, Возраст: 23, Зарплата 72000, Специализация: C#\n",
      "Сотрудник Петр Кузнецов выполняет свои рабочие обязанности\n",
      "Разработчик Петр Кузнецов, специализация которого: C#, согласует отпуск с проектными сроками\n",
      "\n",
      "Сотрудник: Мария Васильева, Возраст: 32, Зарплата 60000, Стиль дизайна: Минимализм\n",
      "Дизайнер Мария Васильева в работе над дизайн-проектами использует стиль Минимализм\n",
      "Сотрудник Мария Васильева берет отпуск\n"
     ]
    }
   ],
   "source": [
    "public class Employee\n",
    "{\n",
    "    public string Name { get; set; }\n",
    "    public int Age { get; set; }\n",
    "    public decimal Salary { get; set; }\n",
    "\n",
    "    public Employee(string name, int age, decimal salary)\n",
    "    {\n",
    "        Name = name;\n",
    "        Age = age;\n",
    "        Salary = salary;\n",
    "    }\n",
    "\n",
    "    public virtual string GetInfo() // метод для получения информации о сотруднике в виде строки\n",
    "    {\n",
    "        return $\"Сотрудник: {Name}, Возраст: {Age}, Зарплата {Salary}\";\n",
    "    }\n",
    "\n",
    "    public virtual void Work() // метод для вывода сообщения о выполнении рабочих обязанностей\n",
    "    {\n",
    "        Console.WriteLine($\"Сотрудник {Name} выполняет свои рабочие обязанности\");\n",
    "    }\n",
    "\n",
    "    public virtual void TakeVacation() // метод для вывода сообщения о взятии отпуска\n",
    "    {\n",
    "        Console.WriteLine($\"Сотрудник {Name} берет отпуск\");\n",
    "    }\n",
    "}\n",
    "\n",
    "public class Manager: Employee\n",
    "{\n",
    "    public int SubCount{ get; set; }\n",
    "\n",
    "    public Manager(string name, int age, decimal salary, int subCount): base(name, age, salary)\n",
    "    {\n",
    "        SubCount = subCount; // количество подчиненных\n",
    "    }\n",
    "\n",
    "    public override void Work()\n",
    "    {\n",
    "        Console.WriteLine($\"Менеджер {Name} управляет командой из {SubCount} сотрудников\");\n",
    "    }\n",
    "\n",
    "    public override string GetInfo()\n",
    "    {\n",
    "            return $\"{base.GetInfo()}, Подчиненных: {SubCount}\";\n",
    "    }\n",
    "}\n",
    "\n",
    "public class Developer : Employee\n",
    "{\n",
    "    public string Special{ get; set; }\n",
    "\n",
    "    public Developer(string name, int age, decimal salary, string special) : base(name, age, salary)\n",
    "    {\n",
    "        Special = special; // специализация\n",
    "    }\n",
    "\n",
    "    public override void TakeVacation()\n",
    "    {\n",
    "        Console.WriteLine($\"Разработчик {Name}, специализация которого: {Special}, согласует отпуск с проектными сроками\");\n",
    "    }\n",
    "\n",
    "    public override string GetInfo()\n",
    "    {\n",
    "        return $\"{base.GetInfo()}, Специализация: {Special}\";\n",
    "    }\n",
    "}\n",
    "\n",
    "public class Designer: Employee\n",
    "{\n",
    "    public string Style{ get; set; }\n",
    "\n",
    "    public Designer(string name, int age, decimal salary, string style) : base(name, age, salary)\n",
    "    {\n",
    "        Style = style; // стиль дизайна\n",
    "    }\n",
    "\n",
    "    public override void Work()\n",
    "    {\n",
    "        Console.WriteLine($\"Дизайнер {Name} в работе над дизайн-проектами использует стиль {Style}\");\n",
    "    }\n",
    "\n",
    "    public override string GetInfo()\n",
    "    {\n",
    "        return $\"{base.GetInfo()}, Стиль дизайна: {Style}\";\n",
    "    }\n",
    "}\n",
    "\n",
    "Manager manager = new Manager(\"Анна Иванова\", 35, 85000, 4);\n",
    "Developer developer = new Developer(\"Петр Кузнецов\", 23, 72000, \"C#\");\n",
    "Designer designer = new Designer(\"Мария Васильева\", 32, 60000, \"Минимализм\");      \n",
    "\n",
    "Console.WriteLine(\"\\n\" + manager.GetInfo());\n",
    "manager.Work();\n",
    "manager.TakeVacation();\n",
    "        \n",
    "Console.WriteLine(\"\\n\" + developer.GetInfo());\n",
    "developer.Work();\n",
    "developer.TakeVacation();\n",
    "        \n",
    "Console.WriteLine(\"\\n\" + designer.GetInfo());\n",
    "designer.Work();\n",
    "designer.TakeVacation();"
   ]
  }
 ],
 "metadata": {
  "kernelspec": {
   "display_name": ".NET (C#)",
   "language": "C#",
   "name": ".net-csharp"
  },
  "polyglot_notebook": {
   "kernelInfo": {
    "defaultKernelName": "csharp",
    "items": [
     {
      "aliases": [],
      "languageName": "csharp",
      "name": "csharp"
     }
    ]
   }
  }
 },
 "nbformat": 4,
 "nbformat_minor": 2
}
